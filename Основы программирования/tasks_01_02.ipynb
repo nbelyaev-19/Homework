{
 "cells": [
  {
   "cell_type": "markdown",
   "id": "b9b51889",
   "metadata": {},
   "source": [
    "### 1. Дан массив целых чисел nums и целое число target. Написать функцию, возвращающую индексы элементов, дающих в сумме число target?\n"
   ]
  },
  {
   "cell_type": "markdown",
   "id": "10b44dc0",
   "metadata": {},
   "source": [
    "Простой перебор сумм всевозможных подмножеств множества nums:\n",
    "1. res - элементы, дающие в сумме число target\n",
    "2. res_idx - индексы элементов, дающих в сумме число target"
   ]
  },
  {
   "cell_type": "code",
   "execution_count": 1,
   "id": "97dfc78f",
   "metadata": {},
   "outputs": [],
   "source": [
    "def get_indices (nums, target):\n",
    "    n = len(nums)\n",
    "    res = set()\n",
    "    res_idx = set()\n",
    "\n",
    "# число подмножеств конечного множества, состоящего из n элементов, равно 2^n\n",
    "    for i in range(1, 2**n + 1):\n",
    "        tmp = []\n",
    "        tmp_idx = []\n",
    "        \n",
    "        p = 1\n",
    "        for j in range(n):\n",
    "            if i&p:\n",
    "                tmp.append(nums[j])\n",
    "                tmp_idx.append(j)\n",
    "\n",
    "            p *= 2    \n",
    "        if sum(tmp) == target:\n",
    "            res.add(tuple(sorted(tmp)))\n",
    "            res_idx.add(tuple(sorted(tmp_idx)))\n",
    "    \n",
    "    res.remove( () )\n",
    "    res_idx.remove( () )\n",
    "    \n",
    "    if (len(res) == 0):\n",
    "        return print(\"Невозможно из чисел nums получить target путем сложения\"), ()\n",
    "      \n",
    "    return res, res_idx"
   ]
  },
  {
   "cell_type": "code",
   "execution_count": 2,
   "id": "36cdae4a",
   "metadata": {},
   "outputs": [
    {
     "name": "stdout",
     "output_type": "stream",
     "text": [
      "{(3, 4, 6), (0, 5, 6), (0, 4, 5, 6), (4,), (3, 6)}\n"
     ]
    }
   ],
   "source": [
    "nums = [1, -5, 10, 2, 0, 1, -2]\n",
    "target = 0\n",
    "\n",
    "res, res_idx = get_indices(nums, target)\n",
    "print(res_idx)"
   ]
  },
  {
   "cell_type": "code",
   "execution_count": 3,
   "id": "8a9556e3",
   "metadata": {},
   "outputs": [
    {
     "name": "stdout",
     "output_type": "stream",
     "text": [
      "Невозможно из чисел nums получить target путем сложения\n"
     ]
    }
   ],
   "source": [
    "nums = [5, 1, 7]\n",
    "target = 0\n",
    "\n",
    "res, res_idx = get_indices(nums, target)"
   ]
  },
  {
   "cell_type": "markdown",
   "id": "1800b18f",
   "metadata": {},
   "source": [
    "### 2. Предполагается, что в каждом массиве имеется не больше одной пары дающих в сумме заданное число target. Нельзя использовать один и тот же элемент дважды?\n"
   ]
  },
  {
   "cell_type": "code",
   "execution_count": 4,
   "id": "bb9a9ce1",
   "metadata": {},
   "outputs": [],
   "source": [
    "def get_pair_indices (nums, target):\n",
    "    d = {}\n",
    "    for i in range(len(nums)):\n",
    "        value = target - nums[i]\n",
    "        \n",
    "        if value in d:\n",
    "            return [d[value], i]         \n",
    "        else:\n",
    "            d[nums[i]] = i\n",
    "        \n",
    "    return \"Невозможно из чисел nums получить target путем сложения\""
   ]
  },
  {
   "cell_type": "code",
   "execution_count": 5,
   "id": "5c570036",
   "metadata": {},
   "outputs": [
    {
     "data": {
      "text/plain": [
       "[1, 4]"
      ]
     },
     "execution_count": 5,
     "metadata": {},
     "output_type": "execute_result"
    }
   ],
   "source": [
    "nums = [7, 1, 0, 3, -2, -4]\n",
    "target = -1\n",
    "get_pair_indices(nums, target)"
   ]
  },
  {
   "cell_type": "code",
   "execution_count": 6,
   "id": "0e7a0d1c",
   "metadata": {},
   "outputs": [
    {
     "data": {
      "text/plain": [
       "'Невозможно из чисел nums получить target путем сложения'"
      ]
     },
     "execution_count": 6,
     "metadata": {},
     "output_type": "execute_result"
    }
   ],
   "source": [
    "nums = [0, 1, 3]\n",
    "target = -3\n",
    "get_pair_indices(nums, target)"
   ]
  }
 ],
 "metadata": {
  "kernelspec": {
   "display_name": "Python 3",
   "language": "python",
   "name": "python3"
  },
  "language_info": {
   "codemirror_mode": {
    "name": "ipython",
    "version": 3
   },
   "file_extension": ".py",
   "mimetype": "text/x-python",
   "name": "python",
   "nbconvert_exporter": "python",
   "pygments_lexer": "ipython3",
   "version": "3.8.8"
  }
 },
 "nbformat": 4,
 "nbformat_minor": 5
}
